{
 "cells": [
  {
   "cell_type": "code",
   "execution_count": 1,
   "metadata": {},
   "outputs": [],
   "source": [
    "import cv2\n",
    "import re\n",
    "import pytesseract\n",
    "pytesseract.pytesseract.tesseract_cmd = r'C:\\Program Files\\Tesseract-OCR\\tesseract'\n",
    "img = cv2.imread('test3.jpg') # change here for different test cases\n",
    "image = cv2.cvtColor(img, cv2.COLOR_BGR2GRAY)\n",
    "image = cv2.medianBlur(image,5)\n",
    "ret, edges = cv2.threshold(image, 90, 255, cv2.THRESH_BINARY_INV)\n",
    "text = pytesseract.image_to_string(edges)\n",
    "pattern = r'[^A-Z0-9]'\n",
    "filtered_text = re.sub(pattern, '', text)\n",
    "filtered_text = filtered_text[:10]\n",
    "img = cv2.resize(img, (512, 512))\n",
    "img = cv2.rectangle(img, (10, 10), (510, 90), (128, 0, 255), -5)\n",
    "font = cv2.FONT_ITALIC\n",
    "img = cv2.putText(img, filtered_text, (10, 40), font, 1, (125, 125, 255), 2,cv2.LINE_AA)\n",
    "cv2.imshow(\"image\",img)\n",
    "cv2.waitKey(0)\n",
    "cv2.destroyAllWindows()"
   ]
  },
  {
   "cell_type": "code",
   "execution_count": null,
   "metadata": {},
   "outputs": [],
   "source": []
  }
 ],
 "metadata": {
  "kernelspec": {
   "display_name": "opencv",
   "language": "python",
   "name": "python3"
  },
  "language_info": {
   "codemirror_mode": {
    "name": "ipython",
    "version": 3
   },
   "file_extension": ".py",
   "mimetype": "text/x-python",
   "name": "python",
   "nbconvert_exporter": "python",
   "pygments_lexer": "ipython3",
   "version": "3.10.12"
  },
  "orig_nbformat": 4
 },
 "nbformat": 4,
 "nbformat_minor": 2
}
